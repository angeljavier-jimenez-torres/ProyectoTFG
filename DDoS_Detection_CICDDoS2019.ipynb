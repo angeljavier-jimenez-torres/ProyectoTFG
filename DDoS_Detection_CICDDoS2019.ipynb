{
 "cells": [
  {
   "cell_type": "markdown",
   "metadata": {},
   "source": [
    "# Paso 1: Preprocesamiento del Dataset\n",
    "\n",
    "El primer paso en nuestro proceso es el preprocesamiento del dataset. Este dataset se encuentra en formato CSV y requiere de varias transformaciones antes de poder ser utilizado para entrenar nuestro modelo.\n",
    "\n",
    "1. Eliminación de columnas no útiles, valores nulos y duplicados: Algunas columnas como 'Unnamed: 0' y 'Flow ID' no aportan información relevante para el entrenamiento del modelo, por lo que serán eliminadas. Los valores nulos (o NaN) y los elementos duplicados pueden afectar la precisión de nuestro modelo, por lo que también serán eliminados."
   ]
  },
  {
   "cell_type": "code",
   "execution_count": 1,
   "metadata": {},
   "outputs": [],
   "source": [
    "import pandas as pd\n",
    "\n",
    "#Cargar el dataset, eliminar columnas irrelevantes, valores nulos y elementos repetidos\n",
    "df = pd.read_csv('DataSets//CICDDoS2019//01-12//Syn(2).csv')\n",
    "df = df.drop(['Unnamed: 0', 'Flow ID'], axis=1)\n",
    "df = df.dropna()\n",
    "df = df.drop_duplicates()"
   ]
  },
  {
   "cell_type": "markdown",
   "metadata": {},
   "source": [
    "2. Codificación de datos categóricos: Tenemos varias columnas (como la IP) que contienen datos categóricos que deben ser codificados, por ejemplo, numéricamente."
   ]
  },
  {
   "cell_type": "code",
   "execution_count": 2,
   "metadata": {},
   "outputs": [],
   "source": [
    "import ipaddress\n",
    "from sklearn.preprocessing import LabelEncoder\n",
    "\n",
    "#Codificar columnas categóricas\n",
    "le = LabelEncoder()\n",
    "\n",
    "#IP\n",
    "df[' Source IP'] = df[' Source IP'].apply(lambda ip: int(ipaddress.IPv4Address(ip)))\n",
    "df[' Destination IP'] = df[' Destination IP'].apply(lambda ip: int(ipaddress.IPv4Address(ip)))\n",
    "\n",
    "#Fecha\n",
    "df[' Timestamp'] = pd.to_datetime(df[' Timestamp'])\n",
    "df.insert(5, ' Year', df[' Timestamp'].dt.year)\n",
    "df.insert(6, ' Month', df[' Timestamp'].dt.month)\n",
    "df.insert(7, ' Day', df[' Timestamp'].dt.day)\n",
    "df.insert(8, ' Hour', df[' Timestamp'].dt.hour)\n",
    "df.insert(9, ' Minute', df[' Timestamp'].dt.minute)\n",
    "df.insert(10, ' Second', df[' Timestamp'].dt.second)\n",
    "df = df.drop(' Timestamp', axis=1)"
   ]
  },
  {
   "cell_type": "markdown",
   "metadata": {},
   "source": [
    "3. Transformación de tipos de datos: Algunas columnas pueden tener tipos de datos que ocupan más memoria de la necesaria. Por eso, podemos convertir columnas de tipo float64 a float32 para ahorrar memoria. "
   ]
  },
  {
   "cell_type": "code",
   "execution_count": 3,
   "metadata": {},
   "outputs": [],
   "source": [
    "# Convertir los tipos de datos de las columnas\n",
    "for col in df.columns:\n",
    "    if df[col].dtype == 'float64':\n",
    "        df[col] = df[col].astype('float32')"
   ]
  },
  {
   "cell_type": "markdown",
   "metadata": {},
   "source": [
    "4. Guardar el dataset preprocesado: Finalmente, guardaremos el dataset preprocesado en disco en formato Parquet, que es un formato de archivo columnar que proporciona almacenamiento eficiente."
   ]
  },
  {
   "cell_type": "code",
   "execution_count": 4,
   "metadata": {},
   "outputs": [],
   "source": [
    "# Guardar el dataset en formato Parquet\n",
    "df.to_parquet('SynComprimido.parquet')"
   ]
  },
  {
   "cell_type": "markdown",
   "metadata": {},
   "source": [
    "5. Preprocesamiento de todos los conjuntos de datos disponibles: Aquí, hemos repetido los pasos de las fases anteriores, pero esta vez con todos los conjuntos de datos disponibles a nuestra disposición."
   ]
  },
  {
   "cell_type": "code",
   "execution_count": 5,
   "metadata": {},
   "outputs": [],
   "source": [
    "import pandas as pd\n",
    "import os\n",
    "import ipaddress\n",
    "from sklearn.preprocessing import LabelEncoder\n",
    "\n",
    "# Lista de todos los directorios que contienen archivos CSV\n",
    "data_dirs = ['DataSets//CICDDoS2019//01-12//', 'DataSets//CICDDoS2019//03-11//']\n",
    "\n",
    "# Inicializar el codificador de etiquetas\n",
    "le = LabelEncoder()\n",
    "\n",
    "for data_dir in data_dirs:\n",
    "    files = [f for f in os.listdir(data_dir) if f.endswith('.csv')]\n",
    "\n",
    "    for file in files:\n",
    "        # Cargar el dataset, eliminar columnas irrelevantes, valores nulos y elementos repetidos\n",
    "        df = pd.read_csv(data_dir + file, low_memory=False)\n",
    "        df = df.drop(['Unnamed: 0', 'Flow ID'], axis=1)\n",
    "        df = df.dropna()\n",
    "        df = df.drop_duplicates()\n",
    "\n",
    "        # Transformar las columnas de IP\n",
    "        df[' Source IP'] = df[' Source IP'].apply(lambda ip: int(ipaddress.IPv4Address(ip)))\n",
    "        df[' Destination IP'] = df[' Destination IP'].apply(lambda ip: int(ipaddress.IPv4Address(ip)))\n",
    "\n",
    "        # Transformar la columna de fecha\n",
    "        df[' Timestamp'] = pd.to_datetime(df[' Timestamp'])\n",
    "        df.insert(5, ' Year', df[' Timestamp'].dt.year)\n",
    "        df.insert(6, ' Month', df[' Timestamp'].dt.month)\n",
    "        df.insert(7, ' Day', df[' Timestamp'].dt.day)\n",
    "        df.insert(8, ' Hour', df[' Timestamp'].dt.hour)\n",
    "        df.insert(9, ' Minute', df[' Timestamp'].dt.minute)\n",
    "        df.insert(10, ' Second', df[' Timestamp'].dt.second)\n",
    "        df = df.drop(' Timestamp', axis=1)\n",
    "\n",
    "        # Convertir los tipos de datos de las columnas float64 a float32\n",
    "        for col in df.columns:\n",
    "            if df[col].dtype == 'float64':\n",
    "                df[col] = df[col].astype('float32')\n",
    "\n",
    "        # Guardar el DataFrame en un archivo Parquet con el mismo nombre que el archivo CSV original\n",
    "        df.to_parquet('DataSets//CICDDoS2019//Parquet//' + file.replace('.csv', '.parquet'))"
   ]
  }
 ],
 "metadata": {
  "kernelspec": {
   "display_name": "Python 3",
   "language": "python",
   "name": "python3"
  },
  "language_info": {
   "codemirror_mode": {
    "name": "ipython",
    "version": 3
   },
   "file_extension": ".py",
   "mimetype": "text/x-python",
   "name": "python",
   "nbconvert_exporter": "python",
   "pygments_lexer": "ipython3",
   "version": "3.12.1"
  }
 },
 "nbformat": 4,
 "nbformat_minor": 2
}
