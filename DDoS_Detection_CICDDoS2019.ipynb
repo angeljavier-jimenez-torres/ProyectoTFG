{
 "cells": [
  {
   "cell_type": "markdown",
   "metadata": {},
   "source": [
    "# Paso 1: Preprocesamiento del Dataset\n",
    "\n",
    "El primer paso en nuestro proceso es el preprocesamiento del dataset. Este dataset se encuentra en formato CSV y requiere de varias transformaciones antes de poder ser utilizado para entrenar nuestro modelo.\n",
    "\n",
    "1. Eliminación de columnas no útiles, valores nulos y duplicados: Algunas columnas como 'Unnamed: 0' y 'Flow ID' no aportan información relevante para el entrenamiento del modelo, por lo que serán eliminadas. Los valores nulos (o NaN) y los elementos duplicados pueden afectar la precisión de nuestro modelo, por lo que también serán eliminados."
   ]
  },
  {
   "cell_type": "code",
   "execution_count": 1,
   "metadata": {},
   "outputs": [],
   "source": [
    "import pandas as pd\n",
    "\n",
    "#Cargar el dataset, eliminar columnas irrelevantes, valores nulos y elementos repetidos\n",
    "df = pd.read_csv('DataSets//CICDDoS2019//01-12//Syn(1).csv')\n",
    "df = df.drop(['Unnamed: 0', 'Flow ID'], axis=1)\n",
    "df = df.dropna()\n",
    "df = df.drop_duplicates()"
   ]
  },
  {
   "cell_type": "markdown",
   "metadata": {},
   "source": [
    "2. Codificación de datos categóricos: Tenemos varias columnas (como la IP) que contienen datos categóricos que deben ser codificados, por ejemplo, numéricamente."
   ]
  },
  {
   "cell_type": "code",
   "execution_count": 2,
   "metadata": {},
   "outputs": [],
   "source": [
    "import ipaddress\n",
    "from sklearn.preprocessing import LabelEncoder\n",
    "\n",
    "#Codificar columnas categóricas\n",
    "le = LabelEncoder()\n",
    "\n",
    "#IP\n",
    "df[' Source IP'] = df[' Source IP'].apply(lambda ip: int(ipaddress.IPv4Address(ip)))\n",
    "df[' Destination IP'] = df[' Destination IP'].apply(lambda ip: int(ipaddress.IPv4Address(ip)))\n",
    "\n",
    "#Fecha\n",
    "df[' Timestamp'] = pd.to_datetime(df[' Timestamp'])\n",
    "df.insert(5, ' Year', df[' Timestamp'].dt.year)\n",
    "df.insert(6, ' Month', df[' Timestamp'].dt.month)\n",
    "df.insert(7, ' Day', df[' Timestamp'].dt.day)\n",
    "df.insert(8, ' Hour', df[' Timestamp'].dt.hour)\n",
    "df.insert(9, ' Minute', df[' Timestamp'].dt.minute)\n",
    "df.insert(10, ' Second', df[' Timestamp'].dt.second)\n",
    "df = df.drop(' Timestamp', axis=1)"
   ]
  },
  {
   "cell_type": "markdown",
   "metadata": {},
   "source": [
    "3. Transformación de tipos de datos: Algunas columnas pueden tener tipos de datos que ocupan más memoria de la necesaria. Por eso, podemos convertir columnas de tipo float64 a float32 para ahorrar memoria. "
   ]
  },
  {
   "cell_type": "code",
   "execution_count": 3,
   "metadata": {},
   "outputs": [],
   "source": [
    "# Convertir los tipos de datos de las columnas\n",
    "for col in df.columns:\n",
    "    if df[col].dtype == 'float64':\n",
    "        df[col] = df[col].astype('float32')"
   ]
  },
  {
   "cell_type": "markdown",
   "metadata": {},
   "source": [
    "4. Guardar el dataset preprocesado: Finalmente, guardaremos el dataset preprocesado en disco en formato Parquet, que es un formato de archivo columnar que proporciona almacenamiento eficiente."
   ]
  },
  {
   "cell_type": "code",
   "execution_count": 4,
   "metadata": {},
   "outputs": [],
   "source": [
    "# Guardar el dataset en formato Parquet\n",
    "df.to_parquet('SynComprimido.parquet')"
   ]
  },
  {
   "cell_type": "markdown",
   "metadata": {},
   "source": [
    "5. Preprocesamiento de todos los conjuntos de datos disponibles: Aquí, hemos repetido los pasos de las fases anteriores, pero esta vez con todos los conjuntos de datos disponibles a nuestra disposición."
   ]
  },
  {
   "cell_type": "code",
   "execution_count": 3,
   "metadata": {},
   "outputs": [
    {
     "ename": "KeyboardInterrupt",
     "evalue": "",
     "output_type": "error",
     "traceback": [
      "\u001b[1;31m---------------------------------------------------------------------------\u001b[0m",
      "\u001b[1;31mKeyboardInterrupt\u001b[0m                         Traceback (most recent call last)",
      "Cell \u001b[1;32mIn[3], line 17\u001b[0m\n\u001b[0;32m     13\u001b[0m files \u001b[38;5;241m=\u001b[39m [f \u001b[38;5;28;01mfor\u001b[39;00m f \u001b[38;5;129;01min\u001b[39;00m os\u001b[38;5;241m.\u001b[39mlistdir(data_dir) \u001b[38;5;28;01mif\u001b[39;00m f\u001b[38;5;241m.\u001b[39mendswith(\u001b[38;5;124m'\u001b[39m\u001b[38;5;124m.csv\u001b[39m\u001b[38;5;124m'\u001b[39m)]\n\u001b[0;32m     15\u001b[0m \u001b[38;5;28;01mfor\u001b[39;00m file \u001b[38;5;129;01min\u001b[39;00m files:\n\u001b[0;32m     16\u001b[0m     \u001b[38;5;66;03m# Cargar el dataset, eliminar columnas irrelevantes, valores nulos y elementos repetidos\u001b[39;00m\n\u001b[1;32m---> 17\u001b[0m     df \u001b[38;5;241m=\u001b[39m \u001b[43mpd\u001b[49m\u001b[38;5;241;43m.\u001b[39;49m\u001b[43mread_csv\u001b[49m\u001b[43m(\u001b[49m\u001b[43mdata_dir\u001b[49m\u001b[43m \u001b[49m\u001b[38;5;241;43m+\u001b[39;49m\u001b[43m \u001b[49m\u001b[43mfile\u001b[49m\u001b[43m,\u001b[49m\u001b[43m \u001b[49m\u001b[43mlow_memory\u001b[49m\u001b[38;5;241;43m=\u001b[39;49m\u001b[38;5;28;43;01mFalse\u001b[39;49;00m\u001b[43m)\u001b[49m\n\u001b[0;32m     18\u001b[0m     df \u001b[38;5;241m=\u001b[39m df\u001b[38;5;241m.\u001b[39mdrop([\u001b[38;5;124m'\u001b[39m\u001b[38;5;124mUnnamed: 0\u001b[39m\u001b[38;5;124m'\u001b[39m, \u001b[38;5;124m'\u001b[39m\u001b[38;5;124mFlow ID\u001b[39m\u001b[38;5;124m'\u001b[39m], axis\u001b[38;5;241m=\u001b[39m\u001b[38;5;241m1\u001b[39m)\n\u001b[0;32m     19\u001b[0m     df \u001b[38;5;241m=\u001b[39m df\u001b[38;5;241m.\u001b[39mdropna()\n",
      "File \u001b[1;32mc:\\Users\\Javier Jiménez\\AppData\\Local\\Programs\\Python\\Python312\\Lib\\site-packages\\pandas\\io\\parsers\\readers.py:1026\u001b[0m, in \u001b[0;36mread_csv\u001b[1;34m(filepath_or_buffer, sep, delimiter, header, names, index_col, usecols, dtype, engine, converters, true_values, false_values, skipinitialspace, skiprows, skipfooter, nrows, na_values, keep_default_na, na_filter, verbose, skip_blank_lines, parse_dates, infer_datetime_format, keep_date_col, date_parser, date_format, dayfirst, cache_dates, iterator, chunksize, compression, thousands, decimal, lineterminator, quotechar, quoting, doublequote, escapechar, comment, encoding, encoding_errors, dialect, on_bad_lines, delim_whitespace, low_memory, memory_map, float_precision, storage_options, dtype_backend)\u001b[0m\n\u001b[0;32m   1013\u001b[0m kwds_defaults \u001b[38;5;241m=\u001b[39m _refine_defaults_read(\n\u001b[0;32m   1014\u001b[0m     dialect,\n\u001b[0;32m   1015\u001b[0m     delimiter,\n\u001b[1;32m   (...)\u001b[0m\n\u001b[0;32m   1022\u001b[0m     dtype_backend\u001b[38;5;241m=\u001b[39mdtype_backend,\n\u001b[0;32m   1023\u001b[0m )\n\u001b[0;32m   1024\u001b[0m kwds\u001b[38;5;241m.\u001b[39mupdate(kwds_defaults)\n\u001b[1;32m-> 1026\u001b[0m \u001b[38;5;28;01mreturn\u001b[39;00m \u001b[43m_read\u001b[49m\u001b[43m(\u001b[49m\u001b[43mfilepath_or_buffer\u001b[49m\u001b[43m,\u001b[49m\u001b[43m \u001b[49m\u001b[43mkwds\u001b[49m\u001b[43m)\u001b[49m\n",
      "File \u001b[1;32mc:\\Users\\Javier Jiménez\\AppData\\Local\\Programs\\Python\\Python312\\Lib\\site-packages\\pandas\\io\\parsers\\readers.py:626\u001b[0m, in \u001b[0;36m_read\u001b[1;34m(filepath_or_buffer, kwds)\u001b[0m\n\u001b[0;32m    623\u001b[0m     \u001b[38;5;28;01mreturn\u001b[39;00m parser\n\u001b[0;32m    625\u001b[0m \u001b[38;5;28;01mwith\u001b[39;00m parser:\n\u001b[1;32m--> 626\u001b[0m     \u001b[38;5;28;01mreturn\u001b[39;00m \u001b[43mparser\u001b[49m\u001b[38;5;241;43m.\u001b[39;49m\u001b[43mread\u001b[49m\u001b[43m(\u001b[49m\u001b[43mnrows\u001b[49m\u001b[43m)\u001b[49m\n",
      "File \u001b[1;32mc:\\Users\\Javier Jiménez\\AppData\\Local\\Programs\\Python\\Python312\\Lib\\site-packages\\pandas\\io\\parsers\\readers.py:1923\u001b[0m, in \u001b[0;36mTextFileReader.read\u001b[1;34m(self, nrows)\u001b[0m\n\u001b[0;32m   1916\u001b[0m nrows \u001b[38;5;241m=\u001b[39m validate_integer(\u001b[38;5;124m\"\u001b[39m\u001b[38;5;124mnrows\u001b[39m\u001b[38;5;124m\"\u001b[39m, nrows)\n\u001b[0;32m   1917\u001b[0m \u001b[38;5;28;01mtry\u001b[39;00m:\n\u001b[0;32m   1918\u001b[0m     \u001b[38;5;66;03m# error: \"ParserBase\" has no attribute \"read\"\u001b[39;00m\n\u001b[0;32m   1919\u001b[0m     (\n\u001b[0;32m   1920\u001b[0m         index,\n\u001b[0;32m   1921\u001b[0m         columns,\n\u001b[0;32m   1922\u001b[0m         col_dict,\n\u001b[1;32m-> 1923\u001b[0m     ) \u001b[38;5;241m=\u001b[39m \u001b[38;5;28;43mself\u001b[39;49m\u001b[38;5;241;43m.\u001b[39;49m\u001b[43m_engine\u001b[49m\u001b[38;5;241;43m.\u001b[39;49m\u001b[43mread\u001b[49m\u001b[43m(\u001b[49m\u001b[43m  \u001b[49m\u001b[38;5;66;43;03m# type: ignore[attr-defined]\u001b[39;49;00m\n\u001b[0;32m   1924\u001b[0m \u001b[43m        \u001b[49m\u001b[43mnrows\u001b[49m\n\u001b[0;32m   1925\u001b[0m \u001b[43m    \u001b[49m\u001b[43m)\u001b[49m\n\u001b[0;32m   1926\u001b[0m \u001b[38;5;28;01mexcept\u001b[39;00m \u001b[38;5;167;01mException\u001b[39;00m:\n\u001b[0;32m   1927\u001b[0m     \u001b[38;5;28mself\u001b[39m\u001b[38;5;241m.\u001b[39mclose()\n",
      "File \u001b[1;32mc:\\Users\\Javier Jiménez\\AppData\\Local\\Programs\\Python\\Python312\\Lib\\site-packages\\pandas\\io\\parsers\\c_parser_wrapper.py:239\u001b[0m, in \u001b[0;36mCParserWrapper.read\u001b[1;34m(self, nrows)\u001b[0m\n\u001b[0;32m    236\u001b[0m         data \u001b[38;5;241m=\u001b[39m _concatenate_chunks(chunks)\n\u001b[0;32m    238\u001b[0m     \u001b[38;5;28;01melse\u001b[39;00m:\n\u001b[1;32m--> 239\u001b[0m         data \u001b[38;5;241m=\u001b[39m \u001b[38;5;28;43mself\u001b[39;49m\u001b[38;5;241;43m.\u001b[39;49m\u001b[43m_reader\u001b[49m\u001b[38;5;241;43m.\u001b[39;49m\u001b[43mread\u001b[49m\u001b[43m(\u001b[49m\u001b[43mnrows\u001b[49m\u001b[43m)\u001b[49m\n\u001b[0;32m    240\u001b[0m \u001b[38;5;28;01mexcept\u001b[39;00m \u001b[38;5;167;01mStopIteration\u001b[39;00m:\n\u001b[0;32m    241\u001b[0m     \u001b[38;5;28;01mif\u001b[39;00m \u001b[38;5;28mself\u001b[39m\u001b[38;5;241m.\u001b[39m_first_chunk:\n",
      "File \u001b[1;32mparsers.pyx:820\u001b[0m, in \u001b[0;36mpandas._libs.parsers.TextReader.read\u001b[1;34m()\u001b[0m\n",
      "File \u001b[1;32mparsers.pyx:914\u001b[0m, in \u001b[0;36mpandas._libs.parsers.TextReader._read_rows\u001b[1;34m()\u001b[0m\n",
      "File \u001b[1;32mparsers.pyx:891\u001b[0m, in \u001b[0;36mpandas._libs.parsers.TextReader._check_tokenize_status\u001b[1;34m()\u001b[0m\n",
      "File \u001b[1;32mparsers.pyx:2053\u001b[0m, in \u001b[0;36mpandas._libs.parsers.raise_parser_error\u001b[1;34m()\u001b[0m\n",
      "File \u001b[1;32m<frozen codecs>:331\u001b[0m, in \u001b[0;36mgetstate\u001b[1;34m(self)\u001b[0m\n",
      "\u001b[1;31mKeyboardInterrupt\u001b[0m: "
     ]
    }
   ],
   "source": [
    "import pandas as pd\n",
    "import os\n",
    "import ipaddress\n",
    "from sklearn.preprocessing import LabelEncoder\n",
    "\n",
    "# Lista de todos los directorios que contienen archivos CSV\n",
    "data_dirs = ['DataSets//CICDDoS2019//01-12//', 'DataSets//CICDDoS2019//03-11//']\n",
    "\n",
    "# Inicializar el codificador de etiquetas\n",
    "le = LabelEncoder()\n",
    "\n",
    "for data_dir in data_dirs:\n",
    "    files = [f for f in os.listdir(data_dir) if f.endswith('.csv')]\n",
    "\n",
    "    for file in files:\n",
    "        # Cargar el dataset, eliminar columnas irrelevantes, valores nulos y elementos repetidos\n",
    "        df = pd.read_csv(data_dir + file, low_memory=False)\n",
    "        df = df.drop(['Unnamed: 0', 'Flow ID'], axis=1)\n",
    "        df = df.dropna()\n",
    "        df = df.drop_duplicates()\n",
    "\n",
    "        # Transformar las columnas de IP\n",
    "        df[' Source IP'] = df[' Source IP'].apply(lambda ip: int(ipaddress.IPv4Address(ip)))\n",
    "        df[' Destination IP'] = df[' Destination IP'].apply(lambda ip: int(ipaddress.IPv4Address(ip)))\n",
    "\n",
    "        # Transformar la columna de fecha\n",
    "        df[' Timestamp'] = pd.to_datetime(df[' Timestamp'])\n",
    "        df.insert(5, ' Year', df[' Timestamp'].dt.year)\n",
    "        df.insert(6, ' Month', df[' Timestamp'].dt.month)\n",
    "        df.insert(7, ' Day', df[' Timestamp'].dt.day)\n",
    "        df.insert(8, ' Hour', df[' Timestamp'].dt.hour)\n",
    "        df.insert(9, ' Minute', df[' Timestamp'].dt.minute)\n",
    "        df.insert(10, ' Second', df[' Timestamp'].dt.second)\n",
    "        df = df.drop(' Timestamp', axis=1)\n",
    "\n",
    "        # Convertir los tipos de datos de las columnas float64 a float32\n",
    "        for col in df.columns:\n",
    "            if df[col].dtype == 'float64':\n",
    "                df[col] = df[col].astype('float32')\n",
    "\n",
    "        # Guardar el DataFrame en un archivo Parquet con el mismo nombre que el archivo CSV original\n",
    "        df.to_parquet('DataSets//CICDDoS2019//Parquet//' + file.replace('.csv', '.parquet'))"
   ]
  }
 ],
 "metadata": {
  "kernelspec": {
   "display_name": "Python 3",
   "language": "python",
   "name": "python3"
  },
  "language_info": {
   "codemirror_mode": {
    "name": "ipython",
    "version": 3
   },
   "file_extension": ".py",
   "mimetype": "text/x-python",
   "name": "python",
   "nbconvert_exporter": "python",
   "pygments_lexer": "ipython3",
   "version": "3.12.1"
  }
 },
 "nbformat": 4,
 "nbformat_minor": 2
}
